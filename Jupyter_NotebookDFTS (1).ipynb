{
  "metadata": {
    "kernelspec": {
      "name": "python",
      "display_name": "Pyolite",
      "language": "python"
    },
    "language_info": {
      "codemirror_mode": {
        "name": "python",
        "version": 3
      },
      "file_extension": ".py",
      "mimetype": "text/x-python",
      "name": "python",
      "nbconvert_exporter": "python",
      "pygments_lexer": "ipython3",
      "version": "3.8"
    }
  },
  "nbformat_minor": 4,
  "nbformat": 4,
  "cells": [
    {
      "cell_type": "markdown",
      "source": "<center>\n    <img src=\"https://cf-courses-data.s3.us.cloud-object-storage.appdomain.cloud/IBMDeveloperSkillsNetwork-DS0105EN-SkillsNetwork/labs/Module2/images/SN_web_lightmode.png\" width=\"300\" alt=\"cognitiveclass.ai logo\">\n</center>\n",
      "metadata": {}
    },
    {
      "cell_type": "markdown",
      "source": "#### Add your code below following the instructions given in the course\n",
      "metadata": {}
    },
    {
      "cell_type": "markdown",
      "source": "# 2 My Jupyter Notebook on IBM Watson Studio",
      "metadata": {}
    },
    {
      "cell_type": "markdown",
      "source": "3 This is the task were i put an introductory pharase ",
      "metadata": {}
    },
    {
      "cell_type": "markdown",
      "source": "4 a New Introductory sentence with a list of code for DS\n\n<ol>\n  <li>R</li>\n  <li>Python</li>\n  <li>SQL</li>\n  <li>C++</li>\n</ol> ",
      "metadata": {}
    },
    {
      "cell_type": "markdown",
      "source": "5 a New Introductory sentence with a list of LIBRARIES for DS\n\n<ol>\n  <li>PANDAS</li>\n  <li>TensorFlow</li>\n  <li>NumPy</li>\n  <li>SciPy</li>\n</ol> ",
      "metadata": {}
    },
    {
      "cell_type": "markdown",
      "source": "6 a New Introductory sentence with a table of tools for DS\n\n<table>\n  <tr>\n    <th>ApacheSpark</th>\n  <tr>    \n    <td>IBM SPSS Modeler</td>\n  <tr>   \n    <th>IBM Watson Studio</th>\n  <tr>    \n    <td>Rstudio</td>\n  </tr>\n\n</table>",
      "metadata": {}
    },
    {
      "cell_type": "markdown",
      "source": "### 7 My code its going to make a multiplication",
      "metadata": {}
    },
    {
      "cell_type": "code",
      "source": "5*5",
      "metadata": {
        "trusted": true
      },
      "execution_count": 37,
      "outputs": [
        {
          "execution_count": 37,
          "output_type": "execute_result",
          "data": {
            "text/plain": "25"
          },
          "metadata": {}
        }
      ]
    },
    {
      "cell_type": "code",
      "source": "3+3",
      "metadata": {
        "trusted": true
      },
      "execution_count": 38,
      "outputs": [
        {
          "execution_count": 38,
          "output_type": "execute_result",
          "data": {
            "text/plain": "6"
          },
          "metadata": {}
        }
      ]
    },
    {
      "cell_type": "code",
      "source": "7 / 2",
      "metadata": {
        "trusted": true
      },
      "execution_count": 39,
      "outputs": [
        {
          "execution_count": 39,
          "output_type": "execute_result",
          "data": {
            "text/plain": "3.5"
          },
          "metadata": {}
        }
      ]
    },
    {
      "cell_type": "markdown",
      "source": "### 8 My code its going to make a multiplication an add numbers",
      "metadata": {}
    },
    {
      "cell_type": "code",
      "source": "5+5 *3",
      "metadata": {
        "trusted": true
      },
      "execution_count": 40,
      "outputs": [
        {
          "execution_count": 40,
          "output_type": "execute_result",
          "data": {
            "text/plain": "20"
          },
          "metadata": {}
        }
      ]
    },
    {
      "cell_type": "markdown",
      "source": "### 9 My code its going to convert minutes to hours",
      "metadata": {}
    },
    {
      "cell_type": "code",
      "source": "minutes = 320\nprint(\"%02d:%02d\" % (divmod(minutes, 60)))\n",
      "metadata": {
        "trusted": true
      },
      "execution_count": 41,
      "outputs": [
        {
          "name": "stdout",
          "text": "05:20\n",
          "output_type": "stream"
        }
      ]
    },
    {
      "cell_type": "markdown",
      "source": "### 10 My code its going to have an unordered list",
      "metadata": {}
    },
    {
      "cell_type": "markdown",
      "source": "### objectives\n\n* Create a markdown cell with the title of the notebook. (1 pt)\n\n* Create a markdown cell for an introduction. (1 pt)\n\n* Create a markdown cell to list data science languages. (3 pts)\n\n* Create a markdown cell to list data science libraries. (3 pts)\n\n* Create a markdown cell with a table of Data Science tools. (3 pts)\n\n*  Create a markdown cell introducing arithmetic expression examples. (1 pt)\n\n* Create a code cell to multiply and add numbers.(2 pts)\n\n* Create a code cell to convert minutes to hours. (2 pts)\n\n* Insert a markdown cell to list Objectives. (3 pts)\n\n* Create a markdown cell to indicate the Author’s name. (2 pts)\n\n* Share your notebook through GitHub (3 pts)\n\n* Take a screenshot of the first page of the notebook. (1 pt)\n\n\n",
      "metadata": {}
    },
    {
      "cell_type": "markdown",
      "source": "#### 11 Autor",
      "metadata": {}
    },
    {
      "cell_type": "markdown",
      "source": "**Daniel F Tovar**",
      "metadata": {}
    }
  ]
}