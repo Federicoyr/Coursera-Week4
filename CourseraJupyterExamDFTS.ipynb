{
  "metadata": {
    "language_info": {
      "codemirror_mode": {
        "name": "python",
        "version": 3
      },
      "file_extension": ".py",
      "mimetype": "text/x-python",
      "name": "python",
      "nbconvert_exporter": "python",
      "pygments_lexer": "ipython3",
      "version": "3.8"
    },
    "kernelspec": {
      "name": "python",
      "display_name": "Pyolite",
      "language": "python"
    }
  },
  "nbformat_minor": 4,
  "nbformat": 4,
  "cells": [
    {
      "cell_type": "markdown",
      "source": "# My Jupyter Notebook on IBM Watson Studio",
      "metadata": {}
    },
    {
      "cell_type": "markdown",
      "source": "**Daniel F. Tovar S.**\n\nBusiness Analyst",
      "metadata": {}
    },
    {
      "cell_type": "markdown",
      "source": "*I am interested in data science because im currently a business analyst with a lot of knowledge in Excel, visual Basic and power B.I. so i want to increase my job scope learning Data Science, also im interesd because i love technology and nowadays its a must to know Data Science including AI.*",
      "metadata": {}
    },
    {
      "cell_type": "markdown",
      "source": "*** My code its going to make a multiplication",
      "metadata": {}
    },
    {
      "cell_type": "code",
      "source": "5*5",
      "metadata": {
        "trusted": true
      },
      "execution_count": 1,
      "outputs": [
        {
          "execution_count": 1,
          "output_type": "execute_result",
          "data": {
            "text/plain": "25"
          },
          "metadata": {}
        }
      ]
    },
    {
      "cell_type": "markdown",
      "source": "\n\n<h1>there is a lot of types of coffee<h1>\n\n<ul>\n  <li>Arabica</li>\n  <li>Robusta </li>\n  <li>Eugenoides </li>\n</ul>  \n\n<h2>also you have a lot of varietals**\n\n<ol>\n  <li>Typyca</li>\n  <li>Gesha</li>\n  <li>Bourbon</li>\n</ol> \n\n**Here an example of different kinds of coffee**\n\n<table>\n  <tr>\n    <th>Arabica</th>\n    <th>Cenephora</th>\n\n  </tr>\n  <tr>\n    <td>Gesha</td>\n    <td>Robusta</td>\n   \n  </tr>\n  <tr>\n    <td>Bourbon</td>\n    <td>Timor</td>\n    \n  </tr>\n</table>\n\n\n",
      "metadata": {}
    }
  ]
}